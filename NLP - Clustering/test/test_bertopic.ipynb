{
 "cells": [
  {
   "cell_type": "code",
   "execution_count": 93,
   "metadata": {},
   "outputs": [],
   "source": [
    "from sentence_transformers import SentenceTransformer, util\n",
    "from sklearn.cluster import AgglomerativeClustering\n",
    "from sklearn.metrics import silhouette_samples, silhouette_score\n",
    "from matplotlib import pyplot as plt\n",
    "from autocorrect import Speller #autocorrector\n",
    "from bertopic import BERTopic"
   ]
  },
  {
   "cell_type": "code",
   "execution_count": 94,
   "metadata": {},
   "outputs": [],
   "source": [
    "import umap\n",
    "import seaborn as sns\n",
    "import numpy as np\n",
    "import pandas as pd\n",
    "import re\n",
    "import itertools"
   ]
  },
  {
   "cell_type": "markdown",
   "metadata": {},
   "source": [
    "## Lectura del dataset \"app_reviews\""
   ]
  },
  {
   "cell_type": "code",
   "execution_count": 95,
   "metadata": {},
   "outputs": [
    {
     "data": {
      "text/html": [
       "<div>\n",
       "<style scoped>\n",
       "    .dataframe tbody tr th:only-of-type {\n",
       "        vertical-align: middle;\n",
       "    }\n",
       "\n",
       "    .dataframe tbody tr th {\n",
       "        vertical-align: top;\n",
       "    }\n",
       "\n",
       "    .dataframe thead th {\n",
       "        text-align: right;\n",
       "    }\n",
       "</style>\n",
       "<table border=\"1\" class=\"dataframe\">\n",
       "  <thead>\n",
       "    <tr style=\"text-align: right;\">\n",
       "      <th></th>\n",
       "      <th>package_name</th>\n",
       "      <th>review</th>\n",
       "      <th>date</th>\n",
       "      <th>star</th>\n",
       "    </tr>\n",
       "  </thead>\n",
       "  <tbody>\n",
       "    <tr>\n",
       "      <th>0</th>\n",
       "      <td>com.mantz_it.rfanalyzer</td>\n",
       "      <td>Great app! The new version now works on my Bra...</td>\n",
       "      <td>October 12 2016</td>\n",
       "      <td>4</td>\n",
       "    </tr>\n",
       "    <tr>\n",
       "      <th>1</th>\n",
       "      <td>com.mantz_it.rfanalyzer</td>\n",
       "      <td>Great It's not fully optimised and has some is...</td>\n",
       "      <td>August 23 2016</td>\n",
       "      <td>4</td>\n",
       "    </tr>\n",
       "    <tr>\n",
       "      <th>2</th>\n",
       "      <td>com.mantz_it.rfanalyzer</td>\n",
       "      <td>Works on a Nexus 6p I'm still messing around w...</td>\n",
       "      <td>August 04 2016</td>\n",
       "      <td>5</td>\n",
       "    </tr>\n",
       "    <tr>\n",
       "      <th>3</th>\n",
       "      <td>com.mantz_it.rfanalyzer</td>\n",
       "      <td>The bandwidth seemed to be limited to maximum ...</td>\n",
       "      <td>July 25 2016</td>\n",
       "      <td>3</td>\n",
       "    </tr>\n",
       "    <tr>\n",
       "      <th>4</th>\n",
       "      <td>com.mantz_it.rfanalyzer</td>\n",
       "      <td>Works well with my Hackrf Hopefully new update...</td>\n",
       "      <td>July 22 2016</td>\n",
       "      <td>5</td>\n",
       "    </tr>\n",
       "    <tr>\n",
       "      <th>...</th>\n",
       "      <td>...</td>\n",
       "      <td>...</td>\n",
       "      <td>...</td>\n",
       "      <td>...</td>\n",
       "    </tr>\n",
       "    <tr>\n",
       "      <th>288060</th>\n",
       "      <td>com.termux.api</td>\n",
       "      <td>it doesn't do anything after installing this i...</td>\n",
       "      <td>June 24 2016</td>\n",
       "      <td>3</td>\n",
       "    </tr>\n",
       "    <tr>\n",
       "      <th>288061</th>\n",
       "      <td>com.termux.api</td>\n",
       "      <td>I like this app . Its is very helpful for use....</td>\n",
       "      <td>June 20 2016</td>\n",
       "      <td>5</td>\n",
       "    </tr>\n",
       "    <tr>\n",
       "      <th>288062</th>\n",
       "      <td>com.termux.api</td>\n",
       "      <td>Finally Brings back the Unix command line to A...</td>\n",
       "      <td>May 20 2016</td>\n",
       "      <td>5</td>\n",
       "    </tr>\n",
       "    <tr>\n",
       "      <th>288063</th>\n",
       "      <td>com.termux.api</td>\n",
       "      <td>The API feature is great  just need loads more...</td>\n",
       "      <td>May 05 2016</td>\n",
       "      <td>5</td>\n",
       "    </tr>\n",
       "    <tr>\n",
       "      <th>288064</th>\n",
       "      <td>com.termux.api</td>\n",
       "      <td>Works Nicely! I wish there were instructions t...</td>\n",
       "      <td>April 28 2016</td>\n",
       "      <td>5</td>\n",
       "    </tr>\n",
       "  </tbody>\n",
       "</table>\n",
       "<p>288065 rows × 4 columns</p>\n",
       "</div>"
      ],
      "text/plain": [
       "                   package_name  \\\n",
       "0       com.mantz_it.rfanalyzer   \n",
       "1       com.mantz_it.rfanalyzer   \n",
       "2       com.mantz_it.rfanalyzer   \n",
       "3       com.mantz_it.rfanalyzer   \n",
       "4       com.mantz_it.rfanalyzer   \n",
       "...                         ...   \n",
       "288060           com.termux.api   \n",
       "288061           com.termux.api   \n",
       "288062           com.termux.api   \n",
       "288063           com.termux.api   \n",
       "288064           com.termux.api   \n",
       "\n",
       "                                                   review             date  \\\n",
       "0       Great app! The new version now works on my Bra...  October 12 2016   \n",
       "1       Great It's not fully optimised and has some is...   August 23 2016   \n",
       "2       Works on a Nexus 6p I'm still messing around w...   August 04 2016   \n",
       "3       The bandwidth seemed to be limited to maximum ...     July 25 2016   \n",
       "4       Works well with my Hackrf Hopefully new update...     July 22 2016   \n",
       "...                                                   ...              ...   \n",
       "288060  it doesn't do anything after installing this i...     June 24 2016   \n",
       "288061  I like this app . Its is very helpful for use....     June 20 2016   \n",
       "288062  Finally Brings back the Unix command line to A...      May 20 2016   \n",
       "288063  The API feature is great  just need loads more...      May 05 2016   \n",
       "288064  Works Nicely! I wish there were instructions t...    April 28 2016   \n",
       "\n",
       "        star  \n",
       "0          4  \n",
       "1          4  \n",
       "2          5  \n",
       "3          3  \n",
       "4          5  \n",
       "...      ...  \n",
       "288060     3  \n",
       "288061     5  \n",
       "288062     5  \n",
       "288063     5  \n",
       "288064     5  \n",
       "\n",
       "[288065 rows x 4 columns]"
      ]
     },
     "execution_count": 95,
     "metadata": {},
     "output_type": "execute_result"
    }
   ],
   "source": [
    "review = pd.read_csv('https://raw.githubusercontent.com/LuisSante/Datasets/main/app_reviews.csv')\n",
    "review"
   ]
  },
  {
   "cell_type": "markdown",
   "metadata": {},
   "source": [
    "## Limpieza del dataset "
   ]
  },
  {
   "cell_type": "markdown",
   "metadata": {},
   "source": [
    "### Se extrae en un corpus todos los reviews o criticas de usuario"
   ]
  },
  {
   "cell_type": "code",
   "execution_count": 96,
   "metadata": {},
   "outputs": [],
   "source": [
    "def extract_corpus(dataset):\n",
    "    lista = []  \n",
    "    for i in range(len(dataset['package_name'].unique())):\n",
    "        dataset_temp = dataset.loc[dataset['package_name'] == dataset['package_name'].unique()[i]]\n",
    "        lista.append({'package_name':dataset['package_name'].unique()[i], 'size': len(dataset_temp)})\n",
    "\n",
    "    lista = sorted(lista, key=lambda x: x['size'], reverse=True)\n",
    "    dataframe = dataset[dataset['package_name'] == lista[300]['package_name']]\n",
    "    corpus = list(dataframe['review'])\n",
    "    \n",
    "    #corpus = clean_corpus(corpus)\n",
    "\n",
    "    return corpus"
   ]
  },
  {
   "cell_type": "markdown",
   "metadata": {},
   "source": [
    "### Se crea una función que nos permita incrustar las oraciones, para esto usamos un modelo pre-entrenado de SBERT"
   ]
  },
  {
   "cell_type": "code",
   "execution_count": 97,
   "metadata": {},
   "outputs": [],
   "source": [
    "def neural_embeddings(corpus):\n",
    "    model_embedder = SentenceTransformer('all-MiniLM-L6-v2')\n",
    "\n",
    "    embeddings = model_embedder.encode(corpus, convert_to_tensor=True, show_progress_bar=True)\n",
    "    embeddings = embeddings /  np.linalg.norm(embeddings, axis=1, keepdims=True)\n",
    "\n",
    "    return embeddings"
   ]
  },
  {
   "cell_type": "markdown",
   "metadata": {},
   "source": [
    "### Para dar visualización de estas oraciones en un plano euclidiano, aplicamos una técnica de reducción de dimensiones "
   ]
  },
  {
   "cell_type": "code",
   "execution_count": 98,
   "metadata": {},
   "outputs": [],
   "source": [
    "def dimension_reduction(embeddings):\n",
    "    scaler = umap.UMAP(n_components=2).fit_transform(embeddings)\n",
    "    dimension_2d = pd.DataFrame(scaler, columns=['x', 'y'])\n",
    "    return dimension_2d"
   ]
  },
  {
   "cell_type": "markdown",
   "metadata": {},
   "source": [
    "### Para obtener el \"mejor\" cluster aplicamos el método de la silueta"
   ]
  },
  {
   "cell_type": "code",
   "execution_count": 99,
   "metadata": {},
   "outputs": [],
   "source": [
    "def silhoutte(embeddings, attempts):\n",
    "\n",
    "    scores_silhouette = []\n",
    "\n",
    "    for k in range(2,attempts):\n",
    "\n",
    "        agglomerative_clusterering = AgglomerativeClustering(n_clusters=k, affinity=\"cosine\" , linkage=\"complete\").fit(embeddings)\n",
    "        cluster_labels = agglomerative_clusterering.labels_\n",
    "\n",
    "        silhouette_avg = silhouette_score(embeddings, cluster_labels)\n",
    "        scores_silhouette.append(silhouette_avg)\n",
    "\n",
    "    max_score = max(scores_silhouette)\n",
    "    max_index = scores_silhouette.index(max_score)\n",
    "    n_clusters = max_index + 2\n",
    "\n",
    "    return n_clusters"
   ]
  },
  {
   "cell_type": "markdown",
   "metadata": {},
   "source": [
    "### Al tener el \"mejor\" número de clusters, se procede a segmentar las oraciones"
   ]
  },
  {
   "cell_type": "code",
   "execution_count": 100,
   "metadata": {},
   "outputs": [],
   "source": [
    "def segmentation(n_clusters, embeddings):\n",
    "    agglomerative_clusterering = AgglomerativeClustering(n_clusters=5, affinity=\"cosine\" , linkage=\"complete\").fit(embeddings)\n",
    "    cluster_labels = agglomerative_clusterering.labels_\n",
    "\n",
    "    return cluster_labels"
   ]
  },
  {
   "cell_type": "code",
   "execution_count": 101,
   "metadata": {},
   "outputs": [],
   "source": [
    "def topics_labels(n_clusters, corpus):\n",
    "    model = BERTopic(nr_topics = 5).fit(corpus)\n",
    "    labels = model.generate_topic_labels()\n",
    "    labels.pop(0)\n",
    "    print(labels)\n",
    "    return labels "
   ]
  },
  {
   "cell_type": "code",
   "execution_count": 102,
   "metadata": {},
   "outputs": [],
   "source": [
    "def convert_corpus_to_dataFrame(corpus):\n",
    "    corpus_ds = {\n",
    "        'Sentences' : corpus\n",
    "    }\n",
    "\n",
    "    dataset_new = pd.DataFrame(corpus_ds)\n",
    "    return dataset_new"
   ]
  },
  {
   "cell_type": "markdown",
   "metadata": {},
   "source": [
    "### A cada oración le asignamos el cluster al que pertenece"
   ]
  },
  {
   "cell_type": "code",
   "execution_count": 103,
   "metadata": {},
   "outputs": [],
   "source": [
    "def clustering(labels, corpus):    \n",
    "    corpus_dataframe = convert_corpus_to_dataFrame(corpus)\n",
    "    corpus_dataframe['cluster'] = labels\n",
    "\n",
    "    return corpus_dataframe"
   ]
  },
  {
   "cell_type": "code",
   "execution_count": 105,
   "metadata": {},
   "outputs": [
    {
     "data": {
      "application/vnd.jupyter.widget-view+json": {
       "model_id": "79479a21f8a24227a8d2c46cfa6eec96",
       "version_major": 2,
       "version_minor": 0
      },
      "text/plain": [
       "Batches:   0%|          | 0/1 [00:00<?, ?it/s]"
      ]
     },
     "metadata": {},
     "output_type": "display_data"
    },
    {
     "name": "stdout",
     "output_type": "stream",
     "text": [
      "[3 0 1 0 0 2 3 3 3 0 0 2 1 0 0 0 1 4 0 0 1 0 2 0 1 3 0 2 2 0]\n"
     ]
    },
    {
     "ename": "TypeError",
     "evalue": "'list' object is not callable",
     "output_type": "error",
     "traceback": [
      "\u001b[1;31m---------------------------------------------------------------------------\u001b[0m",
      "\u001b[1;31mTypeError\u001b[0m                                 Traceback (most recent call last)",
      "\u001b[1;32mc:\\Users\\USUARIO\\Documents\\Proyectos-4toA\\Text-segmentation-using-Agglomerative-Clustering\\NLP - Clustering\\test\\agglomerative_clustering.ipynb Celda 20\u001b[0m in \u001b[0;36m<cell line: 6>\u001b[1;34m()\u001b[0m\n\u001b[0;32m      <a href='vscode-notebook-cell:/c%3A/Users/USUARIO/Documents/Proyectos-4toA/Text-segmentation-using-Agglomerative-Clustering/NLP%20-%20Clustering/test/agglomerative_clustering.ipynb#X33sZmlsZQ%3D%3D?line=3'>4</a>\u001b[0m labels_cluster \u001b[39m=\u001b[39m segmentation(best_cluster, embeddings)\n\u001b[0;32m      <a href='vscode-notebook-cell:/c%3A/Users/USUARIO/Documents/Proyectos-4toA/Text-segmentation-using-Agglomerative-Clustering/NLP%20-%20Clustering/test/agglomerative_clustering.ipynb#X33sZmlsZQ%3D%3D?line=4'>5</a>\u001b[0m \u001b[39mprint\u001b[39m(labels_cluster)\n\u001b[1;32m----> <a href='vscode-notebook-cell:/c%3A/Users/USUARIO/Documents/Proyectos-4toA/Text-segmentation-using-Agglomerative-Clustering/NLP%20-%20Clustering/test/agglomerative_clustering.ipynb#X33sZmlsZQ%3D%3D?line=5'>6</a>\u001b[0m topics_labels \u001b[39m=\u001b[39m topics_labels(best_cluster, corpus)\n\u001b[0;32m      <a href='vscode-notebook-cell:/c%3A/Users/USUARIO/Documents/Proyectos-4toA/Text-segmentation-using-Agglomerative-Clustering/NLP%20-%20Clustering/test/agglomerative_clustering.ipynb#X33sZmlsZQ%3D%3D?line=6'>7</a>\u001b[0m \u001b[39mprint\u001b[39m(topics_labels)\n\u001b[0;32m      <a href='vscode-notebook-cell:/c%3A/Users/USUARIO/Documents/Proyectos-4toA/Text-segmentation-using-Agglomerative-Clustering/NLP%20-%20Clustering/test/agglomerative_clustering.ipynb#X33sZmlsZQ%3D%3D?line=7'>8</a>\u001b[0m dataframe_review_segment \u001b[39m=\u001b[39m clustering(labels_cluster,corpus)\n",
      "\u001b[1;31mTypeError\u001b[0m: 'list' object is not callable"
     ]
    }
   ],
   "source": [
    "corpus = extract_corpus(review)\n",
    "embeddings = neural_embeddings(corpus)\n",
    "best_cluster = silhoutte(embeddings, 5)\n",
    "labels_cluster = segmentation(best_cluster, embeddings)\n",
    "topics_labels = topics_labels(best_cluster, corpus)\n",
    "dataframe_review_segment = clustering(labels_cluster,corpus)\n",
    "\n",
    "topics = []\n",
    "for i in dataframe_review_segment['cluster']:\n",
    "    topics.append(topics_labels[i])\n",
    "\n",
    "dataframe_review_segment['Topics'] = topics\n",
    "dataframe_review_segment"
   ]
  },
  {
   "cell_type": "markdown",
   "metadata": {},
   "source": [
    "### Mostraremos un gráfico de la segmentación de oraciones y un DataFrame de las oraciones con su respectivo cluster "
   ]
  },
  {
   "cell_type": "code",
   "execution_count": null,
   "metadata": {},
   "outputs": [],
   "source": [
    "def show_graphics_and_themes(dataset_review, attemps):\n",
    "\n",
    "    labels_HAC, embeddings, segment_review = clustering(dataset_review, attemps)\n",
    "    print(segment_review)\n",
    "    review_2d = dimension_reduction(embeddings)\n",
    "\n",
    "    review_2d['labels'] = labels_HAC\n",
    "    \n",
    "    plt.figure(figsize=(14, 8))\n",
    "    clustered = review_2d[review_2d.labels != -1]\n",
    "    plt.scatter(review_2d.x, review_2d.y, c=clustered.labels, s=20, cmap='Spectral')\n",
    "    plt.colorbar()\n",
    "    plt.show()\n",
    "\n",
    "    return segment_review"
   ]
  },
  {
   "cell_type": "code",
   "execution_count": null,
   "metadata": {},
   "outputs": [
    {
     "data": {
      "application/vnd.jupyter.widget-view+json": {
       "model_id": "c8ae19cccecc4ca1a48690ac98dabe48",
       "version_major": 2,
       "version_minor": 0
      },
      "text/plain": [
       "Batches:   0%|          | 0/1 [00:00<?, ?it/s]"
      ]
     },
     "metadata": {},
     "output_type": "display_data"
    },
    {
     "name": "stdout",
     "output_type": "stream",
     "text": [
      "                                            Sentences  cluster\n",
      "0   Great! Running Android 6 and your app cannot f...        2\n",
      "1   Doesn't search SD card Will only search for fi...        0\n",
      "2   Just what I needed It is fast and easy to use....        3\n",
      "3    Enjoying this app. Searching txt files made easy        0\n",
      "4   Not intuitive at all Just try to select the ta...        5\n",
      "5                               Perfect! meet my need        1\n",
      "6                ? Doesn't work. For my phone anyway.        8\n",
      "7                                           No works.        8\n",
      "8   Not working I can no longer add folders to sea...        2\n",
      "9   I used the app to search for names in a direct...        0\n",
      "10  Very fast  very useful for me. I'm using a lot...        0\n",
      "11                   great workz exactly as described        1\n",
      "12  Thank you Thank you for such great application...        7\n",
      "13  Works just as I expected! I searched for 'sear...        0\n",
      "14      great finds files with words i am looking for        0\n",
      "15  great for searching files this app lacks a few...        0\n",
      "16  Best app i love it simple yet powerful   very ...        7\n",
      "17  Does all it promised  and even intents to othe...        4\n",
      "18  Wow how horrible 1st I went to the directory w...        0\n",
      "19  Great app. Wild card support and multi-word se...        0\n",
      "20  Outstanding Programs like this give hope to An...        7\n",
      "21  Highly functional Pretty impressive app allows...        0\n",
      "22                                          Excellent        1\n",
      "23  Handy app Very useful  especially when you're ...        0\n",
      "24  Working fine No crash or whatsoever. You just ...        3\n",
      "25  Buggy Searching for some characters (such as \\...        2\n",
      "26  Alhamdulillah  Its a great app ever  I found a...        0\n",
      "27                                Everyone needs grep        6\n",
      "28                                       Good grepper        6\n",
      "29  Best app for find text  It would be desirable ...        0\n"
     ]
    },
    {
     "data": {
      "image/png": "[encoded data removed]",
      "text/plain": [
       "<Figure size 1008x576 with 2 Axes>"
      ]
     },
     "metadata": {
      "needs_background": "light"
     },
     "output_type": "display_data"
    },
    {
     "name": "stdout",
     "output_type": "stream",
     "text": [
      "                                            Sentences  cluster\n",
      "0   Great! Running Android 6 and your app cannot f...        2\n",
      "1   Doesn't search SD card Will only search for fi...        0\n",
      "2   Just what I needed It is fast and easy to use....        3\n",
      "3    Enjoying this app. Searching txt files made easy        0\n",
      "4   Not intuitive at all Just try to select the ta...        5\n",
      "5                               Perfect! meet my need        1\n",
      "6                ? Doesn't work. For my phone anyway.        8\n",
      "7                                           No works.        8\n",
      "8   Not working I can no longer add folders to sea...        2\n",
      "9   I used the app to search for names in a direct...        0\n",
      "10  Very fast  very useful for me. I'm using a lot...        0\n",
      "11                   great workz exactly as described        1\n",
      "12  Thank you Thank you for such great application...        7\n",
      "13  Works just as I expected! I searched for 'sear...        0\n",
      "14      great finds files with words i am looking for        0\n",
      "15  great for searching files this app lacks a few...        0\n",
      "16  Best app i love it simple yet powerful   very ...        7\n",
      "17  Does all it promised  and even intents to othe...        4\n",
      "18  Wow how horrible 1st I went to the directory w...        0\n",
      "19  Great app. Wild card support and multi-word se...        0\n",
      "20  Outstanding Programs like this give hope to An...        7\n",
      "21  Highly functional Pretty impressive app allows...        0\n",
      "22                                          Excellent        1\n",
      "23  Handy app Very useful  especially when you're ...        0\n",
      "24  Working fine No crash or whatsoever. You just ...        3\n",
      "25  Buggy Searching for some characters (such as \\...        2\n",
      "26  Alhamdulillah  Its a great app ever  I found a...        0\n",
      "27                                Everyone needs grep        6\n",
      "28                                       Good grepper        6\n",
      "29  Best app for find text  It would be desirable ...        0\n"
     ]
    }
   ],
   "source": [
    "print(show_graphics_and_themes(review, 10))"
   ]
  },
  {
   "cell_type": "code",
   "execution_count": null,
   "metadata": {},
   "outputs": [],
   "source": [
    "def show_dimentions(distribution):\n",
    "    for col in 'xy':\n",
    "        sns.kdeplot(distribution[col], shade=True)\n",
    "\n",
    "    with sns.axes_style(style='ticks'):\n",
    "       g = sns.factorplot(data=distribution, kind=\"box\")"
   ]
  }
 ],
 "metadata": {
  "kernelspec": {
   "display_name": "Python 3.10.1 64-bit",
   "language": "python",
   "name": "python3"
  },
  "language_info": {
   "codemirror_mode": {
    "name": "ipython",
    "version": 3
   },
   "file_extension": ".py",
   "mimetype": "text/x-python",
   "name": "python",
   "nbconvert_exporter": "python",
   "pygments_lexer": "ipython3",
   "version": "3.10.1"
  },
  "orig_nbformat": 4,
  "vscode": {
   "interpreter": {
    "hash": "110fe3fb9777db4ce1f884af3cc527a40b2c98427ad17781c021ef692bd3d28d"
   }
  }
 },
 "nbformat": 4,
 "nbformat_minor": 2
}
