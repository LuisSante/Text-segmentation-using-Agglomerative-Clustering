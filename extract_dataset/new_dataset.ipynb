{
 "cells": [
  {
   "cell_type": "code",
   "execution_count": 4,
   "metadata": {},
   "outputs": [],
   "source": [
    "from google_play_scraper import Sort, reviews\n",
    "\n",
    "result, continuation_token = reviews(\n",
    "    'com.google.android.apps.classroom',\n",
    "    lang='en',\n",
    "    country='us', \n",
    "    sort=Sort.NEWEST,\n",
    "    count=10000,\n",
    "    filter_score_with=1\n",
    ")"
   ]
  },
  {
   "cell_type": "code",
   "execution_count": 5,
   "metadata": {},
   "outputs": [
    {
     "name": "stdout",
     "output_type": "stream",
     "text": [
      "                                            sentences\n",
      "0                                      It made me cry\n",
      "1                              horrible app i hate it\n",
      "2                                              Boring\n",
      "3   Doesn't give notifications very often and I en...\n",
      "4                          Doesnt load when on mobile\n",
      "..                                                ...\n",
      "95                                             It bad\n",
      "96   Keeps saying \"couldn't add account to classroom\"\n",
      "97  The app was only good for geting nudes and dep...\n",
      "98                                                  💔\n",
      "99                                       To much work\n",
      "\n",
      "[100 rows x 1 columns]\n"
     ]
    }
   ],
   "source": [
    "import pandas as pd\n",
    "\n",
    "dataset = pd.DataFrame(result)\n",
    "\n",
    "sentences = {\n",
    "    'sentences': dataset['content']\n",
    "}\n",
    "\n",
    "corpus = pd.DataFrame(sentences)\n",
    "print(corpus)"
   ]
  },
  {
   "cell_type": "code",
   "execution_count": 6,
   "metadata": {},
   "outputs": [],
   "source": [
    "data_corpus = corpus.to_csv('dataset_classroom.csv', index=False)"
   ]
  }
 ],
 "metadata": {
  "kernelspec": {
   "display_name": "Python 3",
   "language": "python",
   "name": "python3"
  },
  "language_info": {
   "codemirror_mode": {
    "name": "ipython",
    "version": 3
   },
   "file_extension": ".py",
   "mimetype": "text/x-python",
   "name": "python",
   "nbconvert_exporter": "python",
   "pygments_lexer": "ipython3",
   "version": "3.10.9"
  },
  "orig_nbformat": 4,
  "vscode": {
   "interpreter": {
    "hash": "c63d8c7d738c2960218a10995aedf0a7f67a49a231e71037adf0440953cdb45b"
   }
  }
 },
 "nbformat": 4,
 "nbformat_minor": 2
}
