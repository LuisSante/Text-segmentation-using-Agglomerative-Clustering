{
 "cells": [
  {
   "cell_type": "code",
   "execution_count": 2,
   "metadata": {},
   "outputs": [],
   "source": [
    "from google_play_scraper import Sort, reviews\n",
    "\n",
    "result, continuation_token = reviews(\n",
    "    'com.google.android.apps.classroom',\n",
    "    lang='en',\n",
    "    country='us', \n",
    "    sort=Sort.NEWEST,\n",
    "    count=10000,\n",
    "    filter_score_with=1\n",
    ")"
   ]
  },
  {
   "cell_type": "code",
   "execution_count": 3,
   "metadata": {},
   "outputs": [
    {
     "name": "stdout",
     "output_type": "stream",
     "text": [
      "                                              sentences\n",
      "0                       why I can't log in my account!?\n",
      "1     Can't turn in my activities. Please fix this i...\n",
      "2     Never shows class work and I have to use the w...\n",
      "3     After the recent update, every time I logged i...\n",
      "4                                 Files do not attached\n",
      "...                                                 ...\n",
      "9995          I dont like this app. Too much activities\n",
      "9996       Ga bisa buka video dari guru gajelas nih app\n",
      "9997            Graveyard of students.... RIP students.\n",
      "9998                         worst app i have ever seen\n",
      "9999                        Crashed and not loading 😔😔😔\n",
      "\n",
      "[10000 rows x 1 columns]\n"
     ]
    }
   ],
   "source": [
    "import pandas as pd\n",
    "\n",
    "dataset = pd.DataFrame(result)\n",
    "\n",
    "sentences = {\n",
    "    'sentences': dataset['content']\n",
    "}\n",
    "\n",
    "corpus = pd.DataFrame(sentences)\n",
    "print(corpus)"
   ]
  },
  {
   "cell_type": "code",
   "execution_count": 4,
   "metadata": {},
   "outputs": [],
   "source": [
    "data_corpus = corpus.to_csv('dataset_classroom.csv', index=False)"
   ]
  }
 ],
 "metadata": {
  "kernelspec": {
   "display_name": "Python 3",
   "language": "python",
   "name": "python3"
  },
  "language_info": {
   "codemirror_mode": {
    "name": "ipython",
    "version": 3
   },
   "file_extension": ".py",
   "mimetype": "text/x-python",
   "name": "python",
   "nbconvert_exporter": "python",
   "pygments_lexer": "ipython3",
   "version": "3.10.7 (tags/v3.10.7:6cc6b13, Sep  5 2022, 14:08:36) [MSC v.1933 64 bit (AMD64)]"
  },
  "orig_nbformat": 4,
  "vscode": {
   "interpreter": {
    "hash": "c63d8c7d738c2960218a10995aedf0a7f67a49a231e71037adf0440953cdb45b"
   }
  }
 },
 "nbformat": 4,
 "nbformat_minor": 2
}
